{
 "cells": [
  {
   "cell_type": "markdown",
   "id": "7a6e739b",
   "metadata": {},
   "source": [
    "## Countries capitals Dictionary"
   ]
  },
  {
   "cell_type": "code",
   "execution_count": 17,
   "id": "2b400a2e",
   "metadata": {},
   "outputs": [
    {
     "name": "stdout",
     "output_type": "stream",
     "text": [
      "Countries: dict_keys(['USA', 'UK', 'Germany', 'France', 'Spain', 'Ukraine', 'Brazil', 'Poland', 'Portugal'])\n",
      "Enter country: USA\n",
      "The capital of USA is Washington.\n"
     ]
    }
   ],
   "source": [
    "'''The list of countries capitals. \n",
    "The dictionary is showing the capital of the requested country.'''\n",
    "\n",
    "# create a capitals dictionary\n",
    "capitals = {\"USA\": \"Washington\",\n",
    "          \"UK\": \"London\",\n",
    "          \"Germany\": \"Berlin\",\n",
    "          \"France\": \"Paris\",\n",
    "           \"Spain\": \"Madrid\",\n",
    "           \"Ukraine\": \"Kyiv\",\n",
    "           \"Brazil\": \"Brasília\",\n",
    "           \"Poland\": \"Warsaw\",\n",
    "           \"Portugal\": \"Lisbon\",\n",
    "            \"Nigeria\": \"Abuja\"\n",
    "         }\n",
    "print(f\"Countries: {capitals.keys()}\")\n",
    "\n",
    "country = input(\"Enter country: \")\n",
    "print(f\"The capital of {country} is {capitals[country]}.\")\n"
   ]
  },
  {
   "cell_type": "code",
   "execution_count": 19,
   "id": "db4e3261",
   "metadata": {},
   "outputs": [
    {
     "name": "stdout",
     "output_type": "stream",
     "text": [
      "Countries are: {'USA': 'Washington', 'UK': 'London', 'Germany': 'Berlin', 'France': 'Paris', 'Spain': 'Madrid', 'Ukraine': 'Kyiv', 'Brazil': 'Brasília', 'Poland': 'Warsaw', 'Portugal': 'Lisbon'}\n",
      "Add a country: Hungary\n",
      "Add a capital: Budapest\n",
      "The dictionary after adding a country: {'USA': 'Washington', 'UK': 'London', 'Germany': 'Berlin', 'France': 'Paris', 'Spain': 'Madrid', 'Ukraine': 'Kyiv', 'Brazil': 'Brasília', 'Poland': 'Warsaw', 'Portugal': 'Lisbon', 'Hungary': 'Budapest'}\n"
     ]
    }
   ],
   "source": [
    "# Add the country and its capital in the dictionary\n",
    "capitals = {\"USA\": \"Washington\",\n",
    "          \"UK\": \"London\",\n",
    "          \"Germany\": \"Berlin\",\n",
    "          \"France\": \"Paris\",\n",
    "           \"Spain\": \"Madrid\",\n",
    "           \"Ukraine\": \"Kyiv\",\n",
    "           \"Brazil\": \"Brasília\",\n",
    "           \"Poland\": \"Warsaw\",\n",
    "           \"Portugal\": \"Lisbon\",\n",
    "            \"Nigeria\": \"Abuja\"\n",
    "         }\n",
    "\n",
    "print(f\"Countries are: {capitals}\")\n",
    "\n",
    "country = input(\"Add a country: \")\n",
    "capital = input(\"Add a capital: \")\n",
    "\n",
    "capitals[country] = capital\n",
    "\n",
    "print(f\"The dictionary after adding a country: {capitals}\")"
   ]
  },
  {
   "cell_type": "code",
   "execution_count": 20,
   "id": "161ae11f",
   "metadata": {},
   "outputs": [
    {
     "name": "stdout",
     "output_type": "stream",
     "text": [
      "Original list: {'USA': 'Washington', 'UK': 'London', 'Germany': 'Berlin', 'France': 'Paris', 'Spain': 'Madrid', 'Ukraine': 'Kyiv', 'Brazil': 'Brasília', 'Poland': 'Warsaw', 'Portugal': 'Lisbon'}\n",
      "Enter country: UK\n",
      "The list after deleted input: {'USA': 'Washington', 'Germany': 'Berlin', 'France': 'Paris', 'Spain': 'Madrid', 'Ukraine': 'Kyiv', 'Brazil': 'Brasília', 'Poland': 'Warsaw', 'Portugal': 'Lisbon'}\n"
     ]
    }
   ],
   "source": [
    "# Remove the country and its capital from the dictionary\n",
    "capitals = {\"USA\": \"Washington\",\n",
    "          \"UK\": \"London\",\n",
    "          \"Germany\": \"Berlin\",\n",
    "          \"France\": \"Paris\",\n",
    "           \"Spain\": \"Madrid\",\n",
    "           \"Ukraine\": \"Kyiv\",\n",
    "           \"Brazil\": \"Brasília\",\n",
    "           \"Poland\": \"Warsaw\",\n",
    "           \"Portugal\": \"Lisbon\",\n",
    "            \"Nigeria\": \"Abuja\"\n",
    "         }\n",
    "\n",
    "print(f\"Original list: {capitals}\")\n",
    "\n",
    "capital = input(\"Enter country: \")\n",
    "\n",
    "del capitals[capital]\n",
    "\n",
    "print(f\"The list after deleted input: {capitals}\")"
   ]
  },
  {
   "cell_type": "code",
   "execution_count": null,
   "id": "6f391a55",
   "metadata": {},
   "outputs": [],
   "source": []
  }
 ],
 "metadata": {
  "kernelspec": {
   "display_name": "COM728",
   "language": "python",
   "name": "com728"
  },
  "language_info": {
   "codemirror_mode": {
    "name": "ipython",
    "version": 3
   },
   "file_extension": ".py",
   "mimetype": "text/x-python",
   "name": "python",
   "nbconvert_exporter": "python",
   "pygments_lexer": "ipython3",
   "version": "3.10.13"
  }
 },
 "nbformat": 4,
 "nbformat_minor": 5
}
