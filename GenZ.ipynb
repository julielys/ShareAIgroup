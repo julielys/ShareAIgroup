{
 "cells": [
  {
   "cell_type": "markdown",
   "id": "6c761d61",
   "metadata": {},
   "source": [
    "## determine age generations"
   ]
  },
  {
   "cell_type": "code",
   "execution_count": null,
   "id": "36567b92",
   "metadata": {},
   "outputs": [],
   "source": [
    "'''The program is determine students age generation.\n",
    "0. Ask how many students are in the class today.\n",
    "1. Ask user name. \n",
    "2. Ask age. \n",
    "3. Print the name and generation of the person'''\n",
    "\n",
    "\n",
    "num_student = 0\n",
    "num_student = int(input(\"Enter the number of students in the class. \"))\n",
    "\n",
    "for year_of_birth in range(0,num_student,1):\n",
    "    name = input(\"Enter your name. \")\n",
    "    year_of_birth = int(input(\"What year you were born? \"))\n",
    "    if year_of_birth >=2013:\n",
    "        print(f\"{name}, you are Generation Alpha\")\n",
    "        \n",
    "    elif year_of_birth >=1997 <=2012:\n",
    "        print(f\"{name}, you are Generation Z\")\n",
    "        \n",
    "    elif year_of_birth >=1981 <=1996:\n",
    "        print(f\"{name}, you are Millenial\")\n",
    "        \n",
    "    elif year_of_birth >=1965 <=1980:\n",
    "        print(f\"{name}, you are Generation X\")\n",
    "        \n",
    "\n"
   ]
  },
  {
   "cell_type": "code",
   "execution_count": null,
   "id": "7d8cae04",
   "metadata": {},
   "outputs": [],
   "source": []
  }
 ],
 "metadata": {
  "kernelspec": {
   "display_name": "COM728",
   "language": "python",
   "name": "com728"
  },
  "language_info": {
   "codemirror_mode": {
    "name": "ipython",
    "version": 3
   },
   "file_extension": ".py",
   "mimetype": "text/x-python",
   "name": "python",
   "nbconvert_exporter": "python",
   "pygments_lexer": "ipython3",
   "version": "3.10.13"
  }
 },
 "nbformat": 4,
 "nbformat_minor": 5
}
